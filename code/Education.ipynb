{
 "cells": [
  {
   "cell_type": "markdown",
   "id": "b438edb2",
   "metadata": {},
   "source": [
    "# Predicting School Performance from Socioeconomic Factors\n",
    "## Introduction\n",
    "This analysis investigates how socioeconomic characteristics of a community and school-level factors relate to high school students’ average ACT scores. Understanding these relationships can help improve educational outcomes.\n",
    "\n",
    "We focus on variables such as unemployment rate, percentage of adults with college degrees, median household income, percent of children in married families, and percent of students receiving free or reduced-price lunch."
   ]
  },
  {
   "cell_type": "markdown",
   "id": "379031ce",
   "metadata": {},
   "source": [
    "## Data source\n",
    "1. **EdGap data**:  This dataset contains socioeconomic factors for schools, including household income, unemployment, adult educational attainment, and family structure.\n",
    "   - Source: Census Bureau’s American Community Survey.    \n",
    "   - The quality of the census data and the department of education data can be assumed to be reasonably high.  \n",
    "   - Access: `EdGap_data.xlsx`  \n",
    " \n",
    "\n",
    "2. **School Information Data**:  \n",
    "   Basic identifying information about schools.  \n",
    "   - Source: National Center for Education Statistics (NCES).  \n",
    "   - Data Quality: Public dataset, reasonably high quality.  \n",
    "   - Access: `school_information.csv` from Dropbox: [Download Link](https://www.dropbox.com/s/lkl5nvcdmwyoban/ccd_sch_029_1617_w_1a_11212017.csv?dl=1)  \n"
   ]
  },
  {
   "cell_type": "markdown",
   "id": "b59103e2",
   "metadata": {},
   "source": [
    "## Data Cleaning and Preparation\n",
    "### A. Load libraries and Datasets"
   ]
  },
  {
   "cell_type": "markdown",
   "id": "217f34c0",
   "metadata": {},
   "source": [
    "Before beginning, import the required Python libraries for data handling, visualization, and analysis."
   ]
  },
  {
   "cell_type": "code",
   "execution_count": 1,
   "id": "5d12a9ea",
   "metadata": {},
   "outputs": [],
   "source": [
    "import pandas as pd\n",
    "import numpy as np\n",
    "import matplotlib.pyplot as plt\n",
    "import seaborn as sns\n",
    "\n",
    "#set the plot style\n",
    "sns.set_style(\"whitegrid\")"
   ]
  },
  {
   "cell_type": "markdown",
   "id": "fd63e8a4",
   "metadata": {},
   "source": [
    "Load EdGap Dataset and School Information Dataset"
   ]
  },
  {
   "cell_type": "code",
   "execution_count": 2,
   "id": "62faf9d7",
   "metadata": {},
   "outputs": [
    {
     "name": "stderr",
     "output_type": "stream",
     "text": [
      "/Library/Frameworks/Python.framework/Versions/3.13/lib/python3.13/site-packages/openpyxl/worksheet/_reader.py:329: UserWarning: Unknown extension is not supported and will be removed\n",
      "  warn(msg)\n"
     ]
    }
   ],
   "source": [
    "# Load EdGap Data\n",
    "edgap = pd.read_excel('../data/EdGap_data.xlsx')"
   ]
  },
  {
   "cell_type": "code",
   "execution_count": 3,
   "id": "91a29bd0",
   "metadata": {},
   "outputs": [
    {
     "name": "stderr",
     "output_type": "stream",
     "text": [
      "/var/folders/sc/pdyvxd7s6yg_4vmwpgn89ld80000gn/T/ipykernel_1372/1824140667.py:2: DtypeWarning: Columns (6,9,14,15,18,19,21,22,25,26,29,31,35,39,41,42) have mixed types. Specify dtype option on import or set low_memory=False.\n",
      "  school_information = pd.read_csv('../data/school_information.csv',  encoding='unicode_escape')\n"
     ]
    }
   ],
   "source": [
    "#Load School Information Data\n",
    "school_information = pd.read_csv('../data/school_information.csv',  encoding='unicode_escape')"
   ]
  },
  {
   "cell_type": "markdown",
   "id": "2bdd760b",
   "metadata": {},
   "source": [
    "### B. Inspect the Content of Each Dataset\n",
    "Examine the first few rows and data types to understand the datasets and identify potential issues."
   ]
  },
  {
   "cell_type": "code",
   "execution_count": 4,
   "id": "45d275c2",
   "metadata": {},
   "outputs": [
    {
     "data": {
      "application/vnd.microsoft.datawrangler.viewer.v0+json": {
       "columns": [
        {
         "name": "index",
         "rawType": "int64",
         "type": "integer"
        },
        {
         "name": "NCESSCH School ID",
         "rawType": "int64",
         "type": "integer"
        },
        {
         "name": "CT Unemployment Rate",
         "rawType": "float64",
         "type": "float"
        },
        {
         "name": "CT Pct Adults with College Degree",
         "rawType": "float64",
         "type": "float"
        },
        {
         "name": "CT Pct Childre In Married Couple Family",
         "rawType": "float64",
         "type": "float"
        },
        {
         "name": "CT Median Household Income",
         "rawType": "float64",
         "type": "float"
        },
        {
         "name": "School ACT average (or equivalent if SAT score)",
         "rawType": "float64",
         "type": "float"
        },
        {
         "name": "School Pct Free and Reduced Lunch",
         "rawType": "float64",
         "type": "float"
        }
       ],
       "ref": "b827b05c-32b0-44f1-8606-c59fff45af31",
       "rows": [
        [
         "0",
         "100001600143",
         "0.117962466487936",
         "0.445283018867925",
         "0.346494762288477",
         "42820.0",
         "20.4334554334554",
         "0.0669014084507042"
        ],
        [
         "1",
         "100008000024",
         "0.0639844886088221",
         "0.66276459268762",
         "0.767619047619048",
         "89320.0",
         "19.4981684981685",
         "0.112412177985948"
        ],
        [
         "2",
         "100008000225",
         "0.0564599930723935",
         "0.701864406779661",
         "0.713090418353576",
         "84140.0",
         "19.5543345543346",
         "0.096816114359974"
        ],
        [
         "3",
         "100017000029",
         "0.0447385003150599",
         "0.69206204379562",
         "0.64128256513026",
         "56500.0",
         "17.7374847374847",
         "0.296960249415433"
        ],
        [
         "4",
         "100018000040",
         "0.0770135214579659",
         "0.640060240963855",
         "0.834401709401709",
         "54015.0",
         "18.2454212454212",
         "0.262641138929799"
        ]
       ],
       "shape": {
        "columns": 7,
        "rows": 5
       }
      },
      "text/html": [
       "<div>\n",
       "<style scoped>\n",
       "    .dataframe tbody tr th:only-of-type {\n",
       "        vertical-align: middle;\n",
       "    }\n",
       "\n",
       "    .dataframe tbody tr th {\n",
       "        vertical-align: top;\n",
       "    }\n",
       "\n",
       "    .dataframe thead th {\n",
       "        text-align: right;\n",
       "    }\n",
       "</style>\n",
       "<table border=\"1\" class=\"dataframe\">\n",
       "  <thead>\n",
       "    <tr style=\"text-align: right;\">\n",
       "      <th></th>\n",
       "      <th>NCESSCH School ID</th>\n",
       "      <th>CT Unemployment Rate</th>\n",
       "      <th>CT Pct Adults with College Degree</th>\n",
       "      <th>CT Pct Childre In Married Couple Family</th>\n",
       "      <th>CT Median Household Income</th>\n",
       "      <th>School ACT average (or equivalent if SAT score)</th>\n",
       "      <th>School Pct Free and Reduced Lunch</th>\n",
       "    </tr>\n",
       "  </thead>\n",
       "  <tbody>\n",
       "    <tr>\n",
       "      <th>0</th>\n",
       "      <td>100001600143</td>\n",
       "      <td>0.117962</td>\n",
       "      <td>0.445283</td>\n",
       "      <td>0.346495</td>\n",
       "      <td>42820.0</td>\n",
       "      <td>20.433455</td>\n",
       "      <td>0.066901</td>\n",
       "    </tr>\n",
       "    <tr>\n",
       "      <th>1</th>\n",
       "      <td>100008000024</td>\n",
       "      <td>0.063984</td>\n",
       "      <td>0.662765</td>\n",
       "      <td>0.767619</td>\n",
       "      <td>89320.0</td>\n",
       "      <td>19.498168</td>\n",
       "      <td>0.112412</td>\n",
       "    </tr>\n",
       "    <tr>\n",
       "      <th>2</th>\n",
       "      <td>100008000225</td>\n",
       "      <td>0.056460</td>\n",
       "      <td>0.701864</td>\n",
       "      <td>0.713090</td>\n",
       "      <td>84140.0</td>\n",
       "      <td>19.554335</td>\n",
       "      <td>0.096816</td>\n",
       "    </tr>\n",
       "    <tr>\n",
       "      <th>3</th>\n",
       "      <td>100017000029</td>\n",
       "      <td>0.044739</td>\n",
       "      <td>0.692062</td>\n",
       "      <td>0.641283</td>\n",
       "      <td>56500.0</td>\n",
       "      <td>17.737485</td>\n",
       "      <td>0.296960</td>\n",
       "    </tr>\n",
       "    <tr>\n",
       "      <th>4</th>\n",
       "      <td>100018000040</td>\n",
       "      <td>0.077014</td>\n",
       "      <td>0.640060</td>\n",
       "      <td>0.834402</td>\n",
       "      <td>54015.0</td>\n",
       "      <td>18.245421</td>\n",
       "      <td>0.262641</td>\n",
       "    </tr>\n",
       "  </tbody>\n",
       "</table>\n",
       "</div>"
      ],
      "text/plain": [
       "   NCESSCH School ID  CT Unemployment Rate  CT Pct Adults with College Degree  \\\n",
       "0       100001600143              0.117962                           0.445283   \n",
       "1       100008000024              0.063984                           0.662765   \n",
       "2       100008000225              0.056460                           0.701864   \n",
       "3       100017000029              0.044739                           0.692062   \n",
       "4       100018000040              0.077014                           0.640060   \n",
       "\n",
       "   CT Pct Childre In Married Couple Family  CT Median Household Income  \\\n",
       "0                                 0.346495                     42820.0   \n",
       "1                                 0.767619                     89320.0   \n",
       "2                                 0.713090                     84140.0   \n",
       "3                                 0.641283                     56500.0   \n",
       "4                                 0.834402                     54015.0   \n",
       "\n",
       "   School ACT average (or equivalent if SAT score)  \\\n",
       "0                                        20.433455   \n",
       "1                                        19.498168   \n",
       "2                                        19.554335   \n",
       "3                                        17.737485   \n",
       "4                                        18.245421   \n",
       "\n",
       "   School Pct Free and Reduced Lunch  \n",
       "0                           0.066901  \n",
       "1                           0.112412  \n",
       "2                           0.096816  \n",
       "3                           0.296960  \n",
       "4                           0.262641  "
      ]
     },
     "execution_count": 4,
     "metadata": {},
     "output_type": "execute_result"
    }
   ],
   "source": [
    "edgap.head()"
   ]
  },
  {
   "cell_type": "code",
   "execution_count": 5,
   "id": "d1caa88f",
   "metadata": {},
   "outputs": [
    {
     "name": "stdout",
     "output_type": "stream",
     "text": [
      "<class 'pandas.core.frame.DataFrame'>\n",
      "RangeIndex: 7986 entries, 0 to 7985\n",
      "Data columns (total 7 columns):\n",
      " #   Column                                           Non-Null Count  Dtype  \n",
      "---  ------                                           --------------  -----  \n",
      " 0   NCESSCH School ID                                7986 non-null   int64  \n",
      " 1   CT Unemployment Rate                             7972 non-null   float64\n",
      " 2   CT Pct Adults with College Degree                7973 non-null   float64\n",
      " 3   CT Pct Childre In Married Couple Family          7961 non-null   float64\n",
      " 4   CT Median Household Income                       7966 non-null   float64\n",
      " 5   School ACT average (or equivalent if SAT score)  7986 non-null   float64\n",
      " 6   School Pct Free and Reduced Lunch                7986 non-null   float64\n",
      "dtypes: float64(6), int64(1)\n",
      "memory usage: 436.9 KB\n"
     ]
    }
   ],
   "source": [
    "edgap.info()"
   ]
  },
  {
   "cell_type": "markdown",
   "id": "fca19518",
   "metadata": {},
   "source": [
    "The EdGap dataset contains socioeconomic and performance metrics for schools."
   ]
  },
  {
   "cell_type": "code",
   "execution_count": 6,
   "id": "69fc8151",
   "metadata": {},
   "outputs": [
    {
     "data": {
      "application/vnd.microsoft.datawrangler.viewer.v0+json": {
       "columns": [
        {
         "name": "index",
         "rawType": "int64",
         "type": "integer"
        },
        {
         "name": "SCHOOL_YEAR",
         "rawType": "object",
         "type": "string"
        },
        {
         "name": "FIPST",
         "rawType": "int64",
         "type": "integer"
        },
        {
         "name": "STATENAME",
         "rawType": "object",
         "type": "string"
        },
        {
         "name": "ST",
         "rawType": "object",
         "type": "string"
        },
        {
         "name": "SCH_NAME",
         "rawType": "object",
         "type": "string"
        },
        {
         "name": "LEA_NAME",
         "rawType": "object",
         "type": "string"
        },
        {
         "name": "STATE_AGENCY_NO",
         "rawType": "object",
         "type": "unknown"
        },
        {
         "name": "UNION",
         "rawType": "float64",
         "type": "float"
        },
        {
         "name": "ST_LEAID",
         "rawType": "object",
         "type": "string"
        },
        {
         "name": "LEAID",
         "rawType": "object",
         "type": "unknown"
        },
        {
         "name": "ST_SCHID",
         "rawType": "object",
         "type": "string"
        },
        {
         "name": "NCESSCH",
         "rawType": "float64",
         "type": "float"
        },
        {
         "name": "SCHID",
         "rawType": "float64",
         "type": "float"
        },
        {
         "name": "MSTREET1",
         "rawType": "object",
         "type": "string"
        },
        {
         "name": "MSTREET2",
         "rawType": "object",
         "type": "unknown"
        },
        {
         "name": "MSTREET3",
         "rawType": "object",
         "type": "unknown"
        },
        {
         "name": "MCITY",
         "rawType": "object",
         "type": "string"
        },
        {
         "name": "MSTATE",
         "rawType": "object",
         "type": "string"
        },
        {
         "name": "MZIP",
         "rawType": "object",
         "type": "unknown"
        },
        {
         "name": "MZIP4",
         "rawType": "object",
         "type": "unknown"
        },
        {
         "name": "LSTREET1",
         "rawType": "object",
         "type": "string"
        },
        {
         "name": "LSTREET2",
         "rawType": "object",
         "type": "unknown"
        },
        {
         "name": "LSTREET3",
         "rawType": "object",
         "type": "unknown"
        },
        {
         "name": "LCITY",
         "rawType": "object",
         "type": "string"
        },
        {
         "name": "LSTATE",
         "rawType": "object",
         "type": "string"
        },
        {
         "name": "LZIP",
         "rawType": "object",
         "type": "unknown"
        },
        {
         "name": "LZIP4",
         "rawType": "object",
         "type": "unknown"
        },
        {
         "name": "PHONE",
         "rawType": "object",
         "type": "string"
        },
        {
         "name": "WEBSITE",
         "rawType": "object",
         "type": "string"
        },
        {
         "name": "SY_STATUS",
         "rawType": "object",
         "type": "unknown"
        },
        {
         "name": "SY_STATUS_TEXT",
         "rawType": "object",
         "type": "string"
        },
        {
         "name": "UPDATED_STATUS",
         "rawType": "object",
         "type": "unknown"
        },
        {
         "name": "UPDATED_STATUS_TEXT",
         "rawType": "object",
         "type": "string"
        },
        {
         "name": "EFFECTIVE_DATE",
         "rawType": "object",
         "type": "string"
        },
        {
         "name": "SCH_TYPE_TEXT",
         "rawType": "object",
         "type": "string"
        },
        {
         "name": "SCH_TYPE",
         "rawType": "object",
         "type": "unknown"
        },
        {
         "name": "RECON_STATUS",
         "rawType": "object",
         "type": "string"
        },
        {
         "name": "OUT_OF_STATE_FLAG",
         "rawType": "object",
         "type": "string"
        },
        {
         "name": "CHARTER_TEXT",
         "rawType": "object",
         "type": "string"
        },
        {
         "name": "CHARTAUTH1",
         "rawType": "object",
         "type": "unknown"
        },
        {
         "name": "CHARTAUTHN1",
         "rawType": "object",
         "type": "unknown"
        },
        {
         "name": "CHARTAUTH2",
         "rawType": "object",
         "type": "unknown"
        },
        {
         "name": "CHARTAUTHN2",
         "rawType": "object",
         "type": "unknown"
        },
        {
         "name": "NOGRADES",
         "rawType": "object",
         "type": "string"
        },
        {
         "name": "G_PK_OFFERED",
         "rawType": "object",
         "type": "string"
        },
        {
         "name": "G_KG_OFFERED",
         "rawType": "object",
         "type": "string"
        },
        {
         "name": "G_1_OFFERED",
         "rawType": "object",
         "type": "string"
        },
        {
         "name": "G_2_OFFERED",
         "rawType": "object",
         "type": "string"
        },
        {
         "name": "G_3_OFFERED",
         "rawType": "object",
         "type": "string"
        },
        {
         "name": "G_4_OFFERED",
         "rawType": "object",
         "type": "string"
        },
        {
         "name": "G_5_OFFERED",
         "rawType": "object",
         "type": "string"
        },
        {
         "name": "G_6_OFFERED",
         "rawType": "object",
         "type": "string"
        },
        {
         "name": "G_7_OFFERED",
         "rawType": "object",
         "type": "string"
        },
        {
         "name": "G_8_OFFERED",
         "rawType": "object",
         "type": "string"
        },
        {
         "name": "G_9_OFFERED",
         "rawType": "object",
         "type": "string"
        },
        {
         "name": "G_10_OFFERED",
         "rawType": "object",
         "type": "string"
        },
        {
         "name": "G_11_OFFERED",
         "rawType": "object",
         "type": "string"
        },
        {
         "name": "G_12_OFFERED",
         "rawType": "object",
         "type": "string"
        },
        {
         "name": "G_13_OFFERED",
         "rawType": "object",
         "type": "string"
        },
        {
         "name": "G_UG_OFFERED",
         "rawType": "object",
         "type": "string"
        },
        {
         "name": "G_AE_OFFERED",
         "rawType": "object",
         "type": "string"
        },
        {
         "name": "GSLO",
         "rawType": "object",
         "type": "string"
        },
        {
         "name": "GSHI",
         "rawType": "object",
         "type": "string"
        },
        {
         "name": "LEVEL",
         "rawType": "object",
         "type": "string"
        },
        {
         "name": "IGOFFERED",
         "rawType": "object",
         "type": "string"
        }
       ],
       "ref": "095316c9-9fec-4d1f-9cc0-0ca29e38355c",
       "rows": [
        [
         "0",
         "2016-2017",
         "1",
         "ALABAMA",
         "AL",
         "Sequoyah Sch - Chalkville Campus",
         "Alabama Youth Services",
         "1",
         null,
         "AL-210",
         "100002",
         "AL-210-0020",
         "10000200277.0",
         "100277.0",
         "P O Box 9486",
         null,
         null,
         "Birmingham",
         "AL",
         "35220",
         null,
         "1000 Industrial School Road",
         null,
         null,
         "Birmingham",
         "AL",
         "35220",
         null,
         "(205)680-8574",
         "http://www.dys.alabama.gov",
         "1",
         "Open",
         "1",
         "Open",
         "03/03/2010",
         "Alternative School",
         "4",
         "No",
         "No",
         "No",
         null,
         null,
         null,
         null,
         "No",
         "No",
         "No",
         "No",
         "No",
         "No",
         "No",
         "No",
         "No",
         "Yes",
         "Yes",
         "Yes",
         "Yes",
         "Yes",
         "Yes",
         "No",
         "No",
         "No",
         "07",
         "12",
         "High",
         "As reported"
        ],
        [
         "1",
         "2016-2017",
         "1",
         "ALABAMA",
         "AL",
         "Camps",
         "Alabama Youth Services",
         "1",
         null,
         "AL-210",
         "100002",
         "AL-210-0050",
         "10000201667.0",
         "101667.0",
         "P O Box 66",
         null,
         null,
         "Mt Meigs",
         "AL",
         "36057",
         null,
         "1601 County Rd. 57",
         null,
         null,
         "Prattville",
         "AL",
         "36067",
         null,
         "(334)215-3850",
         "http://www.dys.alabama.gov",
         "1",
         "Open",
         "1",
         "Open",
         "03/03/2010",
         "Alternative School",
         "4",
         "No",
         "No",
         "No",
         null,
         null,
         null,
         null,
         "No",
         "No",
         "No",
         "No",
         "No",
         "No",
         "No",
         "No",
         "No",
         "Yes",
         "Yes",
         "Yes",
         "Yes",
         "Yes",
         "Yes",
         "No",
         "No",
         "No",
         "07",
         "12",
         "High",
         "As reported"
        ],
        [
         "2",
         "2016-2017",
         "1",
         "ALABAMA",
         "AL",
         "Det Ctr",
         "Alabama Youth Services",
         "1",
         null,
         "AL-210",
         "100002",
         "AL-210-0060",
         "10000201670.0",
         "101670.0",
         "P O Box 66",
         null,
         null,
         "Mt Meigs",
         "AL",
         "36057",
         null,
         "2109 Bashi Rd Bldg 509",
         null,
         null,
         "Thomasville",
         "AL",
         "36784",
         null,
         "(334)215-3850",
         "http://www.dys.alabama.gov",
         "1",
         "Open",
         "1",
         "Open",
         "03/03/2010",
         "Alternative School",
         "4",
         "No",
         "No",
         "No",
         null,
         null,
         null,
         null,
         "No",
         "No",
         "No",
         "No",
         "No",
         "No",
         "No",
         "No",
         "No",
         "Yes",
         "Yes",
         "Yes",
         "Yes",
         "Yes",
         "Yes",
         "No",
         "No",
         "No",
         "07",
         "12",
         "High",
         "As reported"
        ],
        [
         "3",
         "2016-2017",
         "1",
         "ALABAMA",
         "AL",
         "Wallace Sch - Mt Meigs Campus",
         "Alabama Youth Services",
         "1",
         null,
         "AL-210",
         "100002",
         "AL-210-0030",
         "10000201705.0",
         "101705.0",
         "P O Box 66",
         null,
         null,
         "Mount Meigs",
         "AL",
         "36057",
         null,
         "1000 Industrial School Road",
         null,
         null,
         "Mount Meigs",
         "AL",
         "36057",
         null,
         "(334)215-6039",
         "http://www.dys.alabama.gov",
         "1",
         "Open",
         "1",
         "Open",
         "03/03/2010",
         "Alternative School",
         "4",
         "No",
         "No",
         "No",
         null,
         null,
         null,
         null,
         "No",
         "No",
         "No",
         "No",
         "No",
         "No",
         "No",
         "No",
         "No",
         "Yes",
         "Yes",
         "Yes",
         "Yes",
         "Yes",
         "Yes",
         "No",
         "No",
         "No",
         "07",
         "12",
         "High",
         "As reported"
        ],
        [
         "4",
         "2016-2017",
         "1",
         "ALABAMA",
         "AL",
         "McNeel Sch - Vacca Campus",
         "Alabama Youth Services",
         "1",
         null,
         "AL-210",
         "100002",
         "AL-210-0040",
         "10000201706.0",
         "101706.0",
         "8950 Roebuck Blvd",
         null,
         null,
         "Birmingham",
         "AL",
         "35206",
         null,
         "8950 Roebuck Blvd",
         null,
         null,
         "Birmingham",
         "AL",
         "35206",
         null,
         "(205)838-4981",
         "http://www.dys.alabama.gov",
         "1",
         "Open",
         "1",
         "Open",
         "03/03/2010",
         "Alternative School",
         "4",
         "No",
         "No",
         "No",
         null,
         null,
         null,
         null,
         "No",
         "No",
         "No",
         "No",
         "No",
         "No",
         "No",
         "No",
         "No",
         "Yes",
         "Yes",
         "Yes",
         "Yes",
         "Yes",
         "Yes",
         "No",
         "No",
         "No",
         "07",
         "12",
         "High",
         "As reported"
        ]
       ],
       "shape": {
        "columns": 65,
        "rows": 5
       }
      },
      "text/html": [
       "<div>\n",
       "<style scoped>\n",
       "    .dataframe tbody tr th:only-of-type {\n",
       "        vertical-align: middle;\n",
       "    }\n",
       "\n",
       "    .dataframe tbody tr th {\n",
       "        vertical-align: top;\n",
       "    }\n",
       "\n",
       "    .dataframe thead th {\n",
       "        text-align: right;\n",
       "    }\n",
       "</style>\n",
       "<table border=\"1\" class=\"dataframe\">\n",
       "  <thead>\n",
       "    <tr style=\"text-align: right;\">\n",
       "      <th></th>\n",
       "      <th>SCHOOL_YEAR</th>\n",
       "      <th>FIPST</th>\n",
       "      <th>STATENAME</th>\n",
       "      <th>ST</th>\n",
       "      <th>SCH_NAME</th>\n",
       "      <th>LEA_NAME</th>\n",
       "      <th>STATE_AGENCY_NO</th>\n",
       "      <th>UNION</th>\n",
       "      <th>ST_LEAID</th>\n",
       "      <th>LEAID</th>\n",
       "      <th>...</th>\n",
       "      <th>G_10_OFFERED</th>\n",
       "      <th>G_11_OFFERED</th>\n",
       "      <th>G_12_OFFERED</th>\n",
       "      <th>G_13_OFFERED</th>\n",
       "      <th>G_UG_OFFERED</th>\n",
       "      <th>G_AE_OFFERED</th>\n",
       "      <th>GSLO</th>\n",
       "      <th>GSHI</th>\n",
       "      <th>LEVEL</th>\n",
       "      <th>IGOFFERED</th>\n",
       "    </tr>\n",
       "  </thead>\n",
       "  <tbody>\n",
       "    <tr>\n",
       "      <th>0</th>\n",
       "      <td>2016-2017</td>\n",
       "      <td>1</td>\n",
       "      <td>ALABAMA</td>\n",
       "      <td>AL</td>\n",
       "      <td>Sequoyah Sch - Chalkville Campus</td>\n",
       "      <td>Alabama Youth Services</td>\n",
       "      <td>1</td>\n",
       "      <td>NaN</td>\n",
       "      <td>AL-210</td>\n",
       "      <td>100002</td>\n",
       "      <td>...</td>\n",
       "      <td>Yes</td>\n",
       "      <td>Yes</td>\n",
       "      <td>Yes</td>\n",
       "      <td>No</td>\n",
       "      <td>No</td>\n",
       "      <td>No</td>\n",
       "      <td>07</td>\n",
       "      <td>12</td>\n",
       "      <td>High</td>\n",
       "      <td>As reported</td>\n",
       "    </tr>\n",
       "    <tr>\n",
       "      <th>1</th>\n",
       "      <td>2016-2017</td>\n",
       "      <td>1</td>\n",
       "      <td>ALABAMA</td>\n",
       "      <td>AL</td>\n",
       "      <td>Camps</td>\n",
       "      <td>Alabama Youth Services</td>\n",
       "      <td>1</td>\n",
       "      <td>NaN</td>\n",
       "      <td>AL-210</td>\n",
       "      <td>100002</td>\n",
       "      <td>...</td>\n",
       "      <td>Yes</td>\n",
       "      <td>Yes</td>\n",
       "      <td>Yes</td>\n",
       "      <td>No</td>\n",
       "      <td>No</td>\n",
       "      <td>No</td>\n",
       "      <td>07</td>\n",
       "      <td>12</td>\n",
       "      <td>High</td>\n",
       "      <td>As reported</td>\n",
       "    </tr>\n",
       "    <tr>\n",
       "      <th>2</th>\n",
       "      <td>2016-2017</td>\n",
       "      <td>1</td>\n",
       "      <td>ALABAMA</td>\n",
       "      <td>AL</td>\n",
       "      <td>Det Ctr</td>\n",
       "      <td>Alabama Youth Services</td>\n",
       "      <td>1</td>\n",
       "      <td>NaN</td>\n",
       "      <td>AL-210</td>\n",
       "      <td>100002</td>\n",
       "      <td>...</td>\n",
       "      <td>Yes</td>\n",
       "      <td>Yes</td>\n",
       "      <td>Yes</td>\n",
       "      <td>No</td>\n",
       "      <td>No</td>\n",
       "      <td>No</td>\n",
       "      <td>07</td>\n",
       "      <td>12</td>\n",
       "      <td>High</td>\n",
       "      <td>As reported</td>\n",
       "    </tr>\n",
       "    <tr>\n",
       "      <th>3</th>\n",
       "      <td>2016-2017</td>\n",
       "      <td>1</td>\n",
       "      <td>ALABAMA</td>\n",
       "      <td>AL</td>\n",
       "      <td>Wallace Sch - Mt Meigs Campus</td>\n",
       "      <td>Alabama Youth Services</td>\n",
       "      <td>1</td>\n",
       "      <td>NaN</td>\n",
       "      <td>AL-210</td>\n",
       "      <td>100002</td>\n",
       "      <td>...</td>\n",
       "      <td>Yes</td>\n",
       "      <td>Yes</td>\n",
       "      <td>Yes</td>\n",
       "      <td>No</td>\n",
       "      <td>No</td>\n",
       "      <td>No</td>\n",
       "      <td>07</td>\n",
       "      <td>12</td>\n",
       "      <td>High</td>\n",
       "      <td>As reported</td>\n",
       "    </tr>\n",
       "    <tr>\n",
       "      <th>4</th>\n",
       "      <td>2016-2017</td>\n",
       "      <td>1</td>\n",
       "      <td>ALABAMA</td>\n",
       "      <td>AL</td>\n",
       "      <td>McNeel Sch - Vacca Campus</td>\n",
       "      <td>Alabama Youth Services</td>\n",
       "      <td>1</td>\n",
       "      <td>NaN</td>\n",
       "      <td>AL-210</td>\n",
       "      <td>100002</td>\n",
       "      <td>...</td>\n",
       "      <td>Yes</td>\n",
       "      <td>Yes</td>\n",
       "      <td>Yes</td>\n",
       "      <td>No</td>\n",
       "      <td>No</td>\n",
       "      <td>No</td>\n",
       "      <td>07</td>\n",
       "      <td>12</td>\n",
       "      <td>High</td>\n",
       "      <td>As reported</td>\n",
       "    </tr>\n",
       "  </tbody>\n",
       "</table>\n",
       "<p>5 rows × 65 columns</p>\n",
       "</div>"
      ],
      "text/plain": [
       "  SCHOOL_YEAR  FIPST STATENAME  ST                          SCH_NAME  \\\n",
       "0   2016-2017      1   ALABAMA  AL  Sequoyah Sch - Chalkville Campus   \n",
       "1   2016-2017      1   ALABAMA  AL                             Camps   \n",
       "2   2016-2017      1   ALABAMA  AL                           Det Ctr   \n",
       "3   2016-2017      1   ALABAMA  AL     Wallace Sch - Mt Meigs Campus   \n",
       "4   2016-2017      1   ALABAMA  AL         McNeel Sch - Vacca Campus   \n",
       "\n",
       "                 LEA_NAME STATE_AGENCY_NO  UNION ST_LEAID   LEAID  ...  \\\n",
       "0  Alabama Youth Services               1    NaN   AL-210  100002  ...   \n",
       "1  Alabama Youth Services               1    NaN   AL-210  100002  ...   \n",
       "2  Alabama Youth Services               1    NaN   AL-210  100002  ...   \n",
       "3  Alabama Youth Services               1    NaN   AL-210  100002  ...   \n",
       "4  Alabama Youth Services               1    NaN   AL-210  100002  ...   \n",
       "\n",
       "  G_10_OFFERED  G_11_OFFERED  G_12_OFFERED G_13_OFFERED G_UG_OFFERED  \\\n",
       "0          Yes           Yes           Yes           No           No   \n",
       "1          Yes           Yes           Yes           No           No   \n",
       "2          Yes           Yes           Yes           No           No   \n",
       "3          Yes           Yes           Yes           No           No   \n",
       "4          Yes           Yes           Yes           No           No   \n",
       "\n",
       "  G_AE_OFFERED GSLO GSHI LEVEL    IGOFFERED  \n",
       "0           No   07   12  High  As reported  \n",
       "1           No   07   12  High  As reported  \n",
       "2           No   07   12  High  As reported  \n",
       "3           No   07   12  High  As reported  \n",
       "4           No   07   12  High  As reported  \n",
       "\n",
       "[5 rows x 65 columns]"
      ]
     },
     "execution_count": 6,
     "metadata": {},
     "output_type": "execute_result"
    }
   ],
   "source": [
    "school_information.head()"
   ]
  },
  {
   "cell_type": "code",
   "execution_count": 7,
   "id": "5357d4b1",
   "metadata": {},
   "outputs": [
    {
     "name": "stdout",
     "output_type": "stream",
     "text": [
      "<class 'pandas.core.frame.DataFrame'>\n",
      "RangeIndex: 102183 entries, 0 to 102182\n",
      "Data columns (total 65 columns):\n",
      " #   Column               Non-Null Count   Dtype  \n",
      "---  ------               --------------   -----  \n",
      " 0   SCHOOL_YEAR          102183 non-null  object \n",
      " 1   FIPST                102183 non-null  int64  \n",
      " 2   STATENAME            102183 non-null  object \n",
      " 3   ST                   102183 non-null  object \n",
      " 4   SCH_NAME             102183 non-null  object \n",
      " 5   LEA_NAME             102183 non-null  object \n",
      " 6   STATE_AGENCY_NO      102183 non-null  object \n",
      " 7   UNION                2533 non-null    float64\n",
      " 8   ST_LEAID             102183 non-null  object \n",
      " 9   LEAID                102183 non-null  object \n",
      " 10  ST_SCHID             102183 non-null  object \n",
      " 11  NCESSCH              102181 non-null  float64\n",
      " 12  SCHID                102181 non-null  float64\n",
      " 13  MSTREET1             102181 non-null  object \n",
      " 14  MSTREET2             1825 non-null    object \n",
      " 15  MSTREET3             28 non-null      object \n",
      " 16  MCITY                102183 non-null  object \n",
      " 17  MSTATE               102183 non-null  object \n",
      " 18  MZIP                 102183 non-null  object \n",
      " 19  MZIP4                60419 non-null   object \n",
      " 20  LSTREET1             102183 non-null  object \n",
      " 21  LSTREET2             582 non-null     object \n",
      " 22  LSTREET3             13 non-null      object \n",
      " 23  LCITY                102183 non-null  object \n",
      " 24  LSTATE               102183 non-null  object \n",
      " 25  LZIP                 102183 non-null  object \n",
      " 26  LZIP4                59145 non-null   object \n",
      " 27  PHONE                102183 non-null  object \n",
      " 28  WEBSITE              51983 non-null   object \n",
      " 29  SY_STATUS            102181 non-null  object \n",
      " 30  SY_STATUS_TEXT       102181 non-null  object \n",
      " 31  UPDATED_STATUS       102181 non-null  object \n",
      " 32  UPDATED_STATUS_TEXT  102181 non-null  object \n",
      " 33  EFFECTIVE_DATE       102181 non-null  object \n",
      " 34  SCH_TYPE_TEXT        102181 non-null  object \n",
      " 35  SCH_TYPE             102181 non-null  object \n",
      " 36  RECON_STATUS         102181 non-null  object \n",
      " 37  OUT_OF_STATE_FLAG    102179 non-null  object \n",
      " 38  CHARTER_TEXT         102179 non-null  object \n",
      " 39  CHARTAUTH1           6687 non-null    object \n",
      " 40  CHARTAUTHN1          6687 non-null    object \n",
      " 41  CHARTAUTH2           116 non-null     object \n",
      " 42  CHARTAUTHN2          116 non-null     object \n",
      " 43  NOGRADES             102179 non-null  object \n",
      " 44  G_PK_OFFERED         102179 non-null  object \n",
      " 45  G_KG_OFFERED         102179 non-null  object \n",
      " 46  G_1_OFFERED          102179 non-null  object \n",
      " 47  G_2_OFFERED          102179 non-null  object \n",
      " 48  G_3_OFFERED          102179 non-null  object \n",
      " 49  G_4_OFFERED          102179 non-null  object \n",
      " 50  G_5_OFFERED          102179 non-null  object \n",
      " 51  G_6_OFFERED          102179 non-null  object \n",
      " 52  G_7_OFFERED          102179 non-null  object \n",
      " 53  G_8_OFFERED          102179 non-null  object \n",
      " 54  G_9_OFFERED          102179 non-null  object \n",
      " 55  G_10_OFFERED         102179 non-null  object \n",
      " 56  G_11_OFFERED         102179 non-null  object \n",
      " 57  G_12_OFFERED         102179 non-null  object \n",
      " 58  G_13_OFFERED         102179 non-null  object \n",
      " 59  G_UG_OFFERED         102179 non-null  object \n",
      " 60  G_AE_OFFERED         102179 non-null  object \n",
      " 61  GSLO                 102179 non-null  object \n",
      " 62  GSHI                 102179 non-null  object \n",
      " 63  LEVEL                102179 non-null  object \n",
      " 64  IGOFFERED            102179 non-null  object \n",
      "dtypes: float64(3), int64(1), object(61)\n",
      "memory usage: 50.7+ MB\n"
     ]
    }
   ],
   "source": [
    "school_information.info()"
   ]
  },
  {
   "cell_type": "markdown",
   "id": "fda74642",
   "metadata": {},
   "source": [
    "The school information dataset contains identifiers, locations, and school type data."
   ]
  },
  {
   "cell_type": "markdown",
   "id": "767223b4",
   "metadata": {},
   "source": [
    "### C. Convert Data Types if Necessary\n",
    "Before merging datasets, we need to ensure that the columns used for joining are of compatible data types. In this analysis, we will use the NCESSCH column as the key for merging."
   ]
  },
  {
   "cell_type": "code",
   "execution_count": 8,
   "id": "447e96ee",
   "metadata": {},
   "outputs": [],
   "source": [
    "school_information['NCESSCH'] = school_information['NCESSCH'].astype('object')"
   ]
  },
  {
   "cell_type": "markdown",
   "id": "19936b57",
   "metadata": {},
   "source": [
    "The school identifier column (NCESSCH) is now compatible for merging datasets."
   ]
  },
  {
   "cell_type": "markdown",
   "id": "c13041ba",
   "metadata": {},
   "source": [
    "### D. Remove Unnecessary Parts\n",
    "The school information dataset includes many columns, but we only need year, school identity, location and school type information.\n",
    "\n",
    "We will keep the columns: SCHOOL_YEAR, NCESSCH, LSTATE, LZIP, SCH_TYPE_TEXT, LEVEL, CHARTER_TEXT."
   ]
  },
  {
   "cell_type": "code",
   "execution_count": 9,
   "id": "1a40b0f0",
   "metadata": {},
   "outputs": [
    {
     "data": {
      "application/vnd.microsoft.datawrangler.viewer.v0+json": {
       "columns": [
        {
         "name": "index",
         "rawType": "int64",
         "type": "integer"
        },
        {
         "name": "SCHOOL_YEAR",
         "rawType": "object",
         "type": "string"
        },
        {
         "name": "NCESSCH",
         "rawType": "object",
         "type": "unknown"
        },
        {
         "name": "LSTATE",
         "rawType": "object",
         "type": "string"
        },
        {
         "name": "LZIP",
         "rawType": "object",
         "type": "unknown"
        },
        {
         "name": "SCH_TYPE_TEXT",
         "rawType": "object",
         "type": "string"
        },
        {
         "name": "LEVEL",
         "rawType": "object",
         "type": "string"
        },
        {
         "name": "CHARTER_TEXT",
         "rawType": "object",
         "type": "string"
        }
       ],
       "ref": "a7e81885-40ee-41ed-b22c-ca6358c19f44",
       "rows": [
        [
         "0",
         "2016-2017",
         "10000200277.0",
         "AL",
         "35220",
         "Alternative School",
         "High",
         "No"
        ],
        [
         "1",
         "2016-2017",
         "10000201667.0",
         "AL",
         "36067",
         "Alternative School",
         "High",
         "No"
        ],
        [
         "2",
         "2016-2017",
         "10000201670.0",
         "AL",
         "36784",
         "Alternative School",
         "High",
         "No"
        ],
        [
         "3",
         "2016-2017",
         "10000201705.0",
         "AL",
         "36057",
         "Alternative School",
         "High",
         "No"
        ],
        [
         "4",
         "2016-2017",
         "10000201706.0",
         "AL",
         "35206",
         "Alternative School",
         "High",
         "No"
        ]
       ],
       "shape": {
        "columns": 7,
        "rows": 5
       }
      },
      "text/html": [
       "<div>\n",
       "<style scoped>\n",
       "    .dataframe tbody tr th:only-of-type {\n",
       "        vertical-align: middle;\n",
       "    }\n",
       "\n",
       "    .dataframe tbody tr th {\n",
       "        vertical-align: top;\n",
       "    }\n",
       "\n",
       "    .dataframe thead th {\n",
       "        text-align: right;\n",
       "    }\n",
       "</style>\n",
       "<table border=\"1\" class=\"dataframe\">\n",
       "  <thead>\n",
       "    <tr style=\"text-align: right;\">\n",
       "      <th></th>\n",
       "      <th>SCHOOL_YEAR</th>\n",
       "      <th>NCESSCH</th>\n",
       "      <th>LSTATE</th>\n",
       "      <th>LZIP</th>\n",
       "      <th>SCH_TYPE_TEXT</th>\n",
       "      <th>LEVEL</th>\n",
       "      <th>CHARTER_TEXT</th>\n",
       "    </tr>\n",
       "  </thead>\n",
       "  <tbody>\n",
       "    <tr>\n",
       "      <th>0</th>\n",
       "      <td>2016-2017</td>\n",
       "      <td>10000200277.0</td>\n",
       "      <td>AL</td>\n",
       "      <td>35220</td>\n",
       "      <td>Alternative School</td>\n",
       "      <td>High</td>\n",
       "      <td>No</td>\n",
       "    </tr>\n",
       "    <tr>\n",
       "      <th>1</th>\n",
       "      <td>2016-2017</td>\n",
       "      <td>10000201667.0</td>\n",
       "      <td>AL</td>\n",
       "      <td>36067</td>\n",
       "      <td>Alternative School</td>\n",
       "      <td>High</td>\n",
       "      <td>No</td>\n",
       "    </tr>\n",
       "    <tr>\n",
       "      <th>2</th>\n",
       "      <td>2016-2017</td>\n",
       "      <td>10000201670.0</td>\n",
       "      <td>AL</td>\n",
       "      <td>36784</td>\n",
       "      <td>Alternative School</td>\n",
       "      <td>High</td>\n",
       "      <td>No</td>\n",
       "    </tr>\n",
       "    <tr>\n",
       "      <th>3</th>\n",
       "      <td>2016-2017</td>\n",
       "      <td>10000201705.0</td>\n",
       "      <td>AL</td>\n",
       "      <td>36057</td>\n",
       "      <td>Alternative School</td>\n",
       "      <td>High</td>\n",
       "      <td>No</td>\n",
       "    </tr>\n",
       "    <tr>\n",
       "      <th>4</th>\n",
       "      <td>2016-2017</td>\n",
       "      <td>10000201706.0</td>\n",
       "      <td>AL</td>\n",
       "      <td>35206</td>\n",
       "      <td>Alternative School</td>\n",
       "      <td>High</td>\n",
       "      <td>No</td>\n",
       "    </tr>\n",
       "  </tbody>\n",
       "</table>\n",
       "</div>"
      ],
      "text/plain": [
       "  SCHOOL_YEAR        NCESSCH LSTATE   LZIP       SCH_TYPE_TEXT LEVEL  \\\n",
       "0   2016-2017  10000200277.0     AL  35220  Alternative School  High   \n",
       "1   2016-2017  10000201667.0     AL  36067  Alternative School  High   \n",
       "2   2016-2017  10000201670.0     AL  36784  Alternative School  High   \n",
       "3   2016-2017  10000201705.0     AL  36057  Alternative School  High   \n",
       "4   2016-2017  10000201706.0     AL  35206  Alternative School  High   \n",
       "\n",
       "  CHARTER_TEXT  \n",
       "0           No  \n",
       "1           No  \n",
       "2           No  \n",
       "3           No  \n",
       "4           No  "
      ]
     },
     "execution_count": 9,
     "metadata": {},
     "output_type": "execute_result"
    }
   ],
   "source": [
    "school_information = school_information[\n",
    "    [\"SCHOOL_YEAR\", \"NCESSCH\", \"LSTATE\", \"LZIP\", \"SCH_TYPE_TEXT\", \"LEVEL\", \"CHARTER_TEXT\"]\n",
    "]\n",
    "\n",
    "school_information.head()"
   ]
  },
  {
   "cell_type": "markdown",
   "id": "6d5c9fc0",
   "metadata": {},
   "source": [
    "### E. Rename Columns\n",
    "To ensure consistent and descriptive variable names, we rename the columns in both datasets to lowercase snake_case format."
   ]
  },
  {
   "cell_type": "code",
   "execution_count": 10,
   "id": "b434f638",
   "metadata": {},
   "outputs": [
    {
     "data": {
      "application/vnd.microsoft.datawrangler.viewer.v0+json": {
       "columns": [
        {
         "name": "index",
         "rawType": "int64",
         "type": "integer"
        },
        {
         "name": "id",
         "rawType": "int64",
         "type": "integer"
        },
        {
         "name": "rate_unemployment",
         "rawType": "float64",
         "type": "float"
        },
        {
         "name": "percent_college",
         "rawType": "float64",
         "type": "float"
        },
        {
         "name": "percent_married",
         "rawType": "float64",
         "type": "float"
        },
        {
         "name": "median_income",
         "rawType": "float64",
         "type": "float"
        },
        {
         "name": "average_act",
         "rawType": "float64",
         "type": "float"
        },
        {
         "name": "percent_lunch",
         "rawType": "float64",
         "type": "float"
        }
       ],
       "ref": "fca388bc-f14b-4e41-96fd-a8230b365a86",
       "rows": [
        [
         "0",
         "100001600143",
         "0.117962466487936",
         "0.445283018867925",
         "0.346494762288477",
         "42820.0",
         "20.4334554334554",
         "0.0669014084507042"
        ],
        [
         "1",
         "100008000024",
         "0.0639844886088221",
         "0.66276459268762",
         "0.767619047619048",
         "89320.0",
         "19.4981684981685",
         "0.112412177985948"
        ],
        [
         "2",
         "100008000225",
         "0.0564599930723935",
         "0.701864406779661",
         "0.713090418353576",
         "84140.0",
         "19.5543345543346",
         "0.096816114359974"
        ],
        [
         "3",
         "100017000029",
         "0.0447385003150599",
         "0.69206204379562",
         "0.64128256513026",
         "56500.0",
         "17.7374847374847",
         "0.296960249415433"
        ],
        [
         "4",
         "100018000040",
         "0.0770135214579659",
         "0.640060240963855",
         "0.834401709401709",
         "54015.0",
         "18.2454212454212",
         "0.262641138929799"
        ]
       ],
       "shape": {
        "columns": 7,
        "rows": 5
       }
      },
      "text/html": [
       "<div>\n",
       "<style scoped>\n",
       "    .dataframe tbody tr th:only-of-type {\n",
       "        vertical-align: middle;\n",
       "    }\n",
       "\n",
       "    .dataframe tbody tr th {\n",
       "        vertical-align: top;\n",
       "    }\n",
       "\n",
       "    .dataframe thead th {\n",
       "        text-align: right;\n",
       "    }\n",
       "</style>\n",
       "<table border=\"1\" class=\"dataframe\">\n",
       "  <thead>\n",
       "    <tr style=\"text-align: right;\">\n",
       "      <th></th>\n",
       "      <th>id</th>\n",
       "      <th>rate_unemployment</th>\n",
       "      <th>percent_college</th>\n",
       "      <th>percent_married</th>\n",
       "      <th>median_income</th>\n",
       "      <th>average_act</th>\n",
       "      <th>percent_lunch</th>\n",
       "    </tr>\n",
       "  </thead>\n",
       "  <tbody>\n",
       "    <tr>\n",
       "      <th>0</th>\n",
       "      <td>100001600143</td>\n",
       "      <td>0.117962</td>\n",
       "      <td>0.445283</td>\n",
       "      <td>0.346495</td>\n",
       "      <td>42820.0</td>\n",
       "      <td>20.433455</td>\n",
       "      <td>0.066901</td>\n",
       "    </tr>\n",
       "    <tr>\n",
       "      <th>1</th>\n",
       "      <td>100008000024</td>\n",
       "      <td>0.063984</td>\n",
       "      <td>0.662765</td>\n",
       "      <td>0.767619</td>\n",
       "      <td>89320.0</td>\n",
       "      <td>19.498168</td>\n",
       "      <td>0.112412</td>\n",
       "    </tr>\n",
       "    <tr>\n",
       "      <th>2</th>\n",
       "      <td>100008000225</td>\n",
       "      <td>0.056460</td>\n",
       "      <td>0.701864</td>\n",
       "      <td>0.713090</td>\n",
       "      <td>84140.0</td>\n",
       "      <td>19.554335</td>\n",
       "      <td>0.096816</td>\n",
       "    </tr>\n",
       "    <tr>\n",
       "      <th>3</th>\n",
       "      <td>100017000029</td>\n",
       "      <td>0.044739</td>\n",
       "      <td>0.692062</td>\n",
       "      <td>0.641283</td>\n",
       "      <td>56500.0</td>\n",
       "      <td>17.737485</td>\n",
       "      <td>0.296960</td>\n",
       "    </tr>\n",
       "    <tr>\n",
       "      <th>4</th>\n",
       "      <td>100018000040</td>\n",
       "      <td>0.077014</td>\n",
       "      <td>0.640060</td>\n",
       "      <td>0.834402</td>\n",
       "      <td>54015.0</td>\n",
       "      <td>18.245421</td>\n",
       "      <td>0.262641</td>\n",
       "    </tr>\n",
       "  </tbody>\n",
       "</table>\n",
       "</div>"
      ],
      "text/plain": [
       "             id  rate_unemployment  percent_college  percent_married  \\\n",
       "0  100001600143           0.117962         0.445283         0.346495   \n",
       "1  100008000024           0.063984         0.662765         0.767619   \n",
       "2  100008000225           0.056460         0.701864         0.713090   \n",
       "3  100017000029           0.044739         0.692062         0.641283   \n",
       "4  100018000040           0.077014         0.640060         0.834402   \n",
       "\n",
       "   median_income  average_act  percent_lunch  \n",
       "0        42820.0    20.433455       0.066901  \n",
       "1        89320.0    19.498168       0.112412  \n",
       "2        84140.0    19.554335       0.096816  \n",
       "3        56500.0    17.737485       0.296960  \n",
       "4        54015.0    18.245421       0.262641  "
      ]
     },
     "execution_count": 10,
     "metadata": {},
     "output_type": "execute_result"
    }
   ],
   "source": [
    "# Rename EdGap columns\n",
    "edgap = edgap.rename(\n",
    "    columns={ \n",
    "        \"NCESSCH School ID\": \"id\",\n",
    "        \"CT Pct Adults with College Degree\": \"percent_college\",\n",
    "        \"CT Unemployment Rate\": \"rate_unemployment\",\n",
    "        \"CT Pct Childre In Married Couple Family\": \"percent_married\",\n",
    "        \"CT Median Household Income\": \"median_income\",\n",
    "        \"School ACT average (or equivalent if SAT score)\": \"average_act\",\n",
    "        \"School Pct Free and Reduced Lunch\": \"percent_lunch\",\n",
    "    }\n",
    ")\n",
    "\n",
    "edgap.head()"
   ]
  },
  {
   "cell_type": "code",
   "execution_count": 11,
   "id": "a6ceaffd",
   "metadata": {},
   "outputs": [
    {
     "data": {
      "application/vnd.microsoft.datawrangler.viewer.v0+json": {
       "columns": [
        {
         "name": "index",
         "rawType": "int64",
         "type": "integer"
        },
        {
         "name": "year",
         "rawType": "object",
         "type": "string"
        },
        {
         "name": "id",
         "rawType": "object",
         "type": "unknown"
        },
        {
         "name": "state",
         "rawType": "object",
         "type": "string"
        },
        {
         "name": "zip_code",
         "rawType": "object",
         "type": "unknown"
        },
        {
         "name": "school_type",
         "rawType": "object",
         "type": "string"
        },
        {
         "name": "school_level",
         "rawType": "object",
         "type": "string"
        },
        {
         "name": "charter",
         "rawType": "object",
         "type": "string"
        }
       ],
       "ref": "66d67c93-2d95-48ab-967c-0832f5720487",
       "rows": [
        [
         "0",
         "2016-2017",
         "10000200277.0",
         "AL",
         "35220",
         "Alternative School",
         "High",
         "No"
        ],
        [
         "1",
         "2016-2017",
         "10000201667.0",
         "AL",
         "36067",
         "Alternative School",
         "High",
         "No"
        ],
        [
         "2",
         "2016-2017",
         "10000201670.0",
         "AL",
         "36784",
         "Alternative School",
         "High",
         "No"
        ],
        [
         "3",
         "2016-2017",
         "10000201705.0",
         "AL",
         "36057",
         "Alternative School",
         "High",
         "No"
        ],
        [
         "4",
         "2016-2017",
         "10000201706.0",
         "AL",
         "35206",
         "Alternative School",
         "High",
         "No"
        ]
       ],
       "shape": {
        "columns": 7,
        "rows": 5
       }
      },
      "text/html": [
       "<div>\n",
       "<style scoped>\n",
       "    .dataframe tbody tr th:only-of-type {\n",
       "        vertical-align: middle;\n",
       "    }\n",
       "\n",
       "    .dataframe tbody tr th {\n",
       "        vertical-align: top;\n",
       "    }\n",
       "\n",
       "    .dataframe thead th {\n",
       "        text-align: right;\n",
       "    }\n",
       "</style>\n",
       "<table border=\"1\" class=\"dataframe\">\n",
       "  <thead>\n",
       "    <tr style=\"text-align: right;\">\n",
       "      <th></th>\n",
       "      <th>year</th>\n",
       "      <th>id</th>\n",
       "      <th>state</th>\n",
       "      <th>zip_code</th>\n",
       "      <th>school_type</th>\n",
       "      <th>school_level</th>\n",
       "      <th>charter</th>\n",
       "    </tr>\n",
       "  </thead>\n",
       "  <tbody>\n",
       "    <tr>\n",
       "      <th>0</th>\n",
       "      <td>2016-2017</td>\n",
       "      <td>10000200277.0</td>\n",
       "      <td>AL</td>\n",
       "      <td>35220</td>\n",
       "      <td>Alternative School</td>\n",
       "      <td>High</td>\n",
       "      <td>No</td>\n",
       "    </tr>\n",
       "    <tr>\n",
       "      <th>1</th>\n",
       "      <td>2016-2017</td>\n",
       "      <td>10000201667.0</td>\n",
       "      <td>AL</td>\n",
       "      <td>36067</td>\n",
       "      <td>Alternative School</td>\n",
       "      <td>High</td>\n",
       "      <td>No</td>\n",
       "    </tr>\n",
       "    <tr>\n",
       "      <th>2</th>\n",
       "      <td>2016-2017</td>\n",
       "      <td>10000201670.0</td>\n",
       "      <td>AL</td>\n",
       "      <td>36784</td>\n",
       "      <td>Alternative School</td>\n",
       "      <td>High</td>\n",
       "      <td>No</td>\n",
       "    </tr>\n",
       "    <tr>\n",
       "      <th>3</th>\n",
       "      <td>2016-2017</td>\n",
       "      <td>10000201705.0</td>\n",
       "      <td>AL</td>\n",
       "      <td>36057</td>\n",
       "      <td>Alternative School</td>\n",
       "      <td>High</td>\n",
       "      <td>No</td>\n",
       "    </tr>\n",
       "    <tr>\n",
       "      <th>4</th>\n",
       "      <td>2016-2017</td>\n",
       "      <td>10000201706.0</td>\n",
       "      <td>AL</td>\n",
       "      <td>35206</td>\n",
       "      <td>Alternative School</td>\n",
       "      <td>High</td>\n",
       "      <td>No</td>\n",
       "    </tr>\n",
       "  </tbody>\n",
       "</table>\n",
       "</div>"
      ],
      "text/plain": [
       "        year             id state zip_code         school_type school_level  \\\n",
       "0  2016-2017  10000200277.0    AL    35220  Alternative School         High   \n",
       "1  2016-2017  10000201667.0    AL    36067  Alternative School         High   \n",
       "2  2016-2017  10000201670.0    AL    36784  Alternative School         High   \n",
       "3  2016-2017  10000201705.0    AL    36057  Alternative School         High   \n",
       "4  2016-2017  10000201706.0    AL    35206  Alternative School         High   \n",
       "\n",
       "  charter  \n",
       "0      No  \n",
       "1      No  \n",
       "2      No  \n",
       "3      No  \n",
       "4      No  "
      ]
     },
     "execution_count": 11,
     "metadata": {},
     "output_type": "execute_result"
    }
   ],
   "source": [
    "# Rename School Information Columns\n",
    "school_information = school_information.rename(\n",
    "    columns={\n",
    "        \"SCHOOL_YEAR\": \"year\",\n",
    "        \"NCESSCH\": \"id\",\n",
    "        \"LSTATE\": \"state\",\n",
    "        \"LZIP\": \"zip_code\",\n",
    "        \"SCH_TYPE_TEXT\": \"school_type\",\n",
    "        \"LEVEL\": \"school_level\",\n",
    "        \"CHARTER_TEXT\": \"charter\",\n",
    "    }\n",
    ")\n",
    "\n",
    "school_information.head()"
   ]
  },
  {
   "cell_type": "markdown",
   "id": "ad28518b",
   "metadata": {},
   "source": [
    "Column names are now clear and ready for analysis."
   ]
  },
  {
   "cell_type": "markdown",
   "id": "589ceacd",
   "metadata": {},
   "source": [
    "### F. Join the Dataset\n",
    "Merge EdGap and school information datasets to combine socioeconomic data with school characteristics."
   ]
  },
  {
   "cell_type": "markdown",
   "id": "19d518e5",
   "metadata": {},
   "source": [
    "We use a left join to keep all rows from the EdGap dataset."
   ]
  },
  {
   "cell_type": "code",
   "execution_count": 12,
   "id": "a3cb334f",
   "metadata": {},
   "outputs": [
    {
     "data": {
      "application/vnd.microsoft.datawrangler.viewer.v0+json": {
       "columns": [
        {
         "name": "index",
         "rawType": "int64",
         "type": "integer"
        },
        {
         "name": "id",
         "rawType": "object",
         "type": "unknown"
        },
        {
         "name": "rate_unemployment",
         "rawType": "float64",
         "type": "float"
        },
        {
         "name": "percent_college",
         "rawType": "float64",
         "type": "float"
        },
        {
         "name": "percent_married",
         "rawType": "float64",
         "type": "float"
        },
        {
         "name": "median_income",
         "rawType": "float64",
         "type": "float"
        },
        {
         "name": "average_act",
         "rawType": "float64",
         "type": "float"
        },
        {
         "name": "percent_lunch",
         "rawType": "float64",
         "type": "float"
        },
        {
         "name": "year",
         "rawType": "object",
         "type": "string"
        },
        {
         "name": "state",
         "rawType": "object",
         "type": "string"
        },
        {
         "name": "zip_code",
         "rawType": "object",
         "type": "unknown"
        },
        {
         "name": "school_type",
         "rawType": "object",
         "type": "string"
        },
        {
         "name": "school_level",
         "rawType": "object",
         "type": "string"
        },
        {
         "name": "charter",
         "rawType": "object",
         "type": "string"
        }
       ],
       "ref": "7b0b2cee-49d0-43d7-98ce-d5ccf171e9c9",
       "rows": [
        [
         "0",
         "100001600143",
         "0.117962466487936",
         "0.445283018867925",
         "0.346494762288477",
         "42820.0",
         "20.4334554334554",
         "0.0669014084507042",
         "2016-2017",
         "DE",
         "19804",
         "Regular School",
         "High",
         "Yes"
        ],
        [
         "1",
         "100008000024",
         "0.0639844886088221",
         "0.66276459268762",
         "0.767619047619048",
         "89320.0",
         "19.4981684981685",
         "0.112412177985948",
         "2016-2017",
         "DE",
         "19709",
         "Regular School",
         "High",
         "No"
        ],
        [
         "2",
         "100008000225",
         "0.0564599930723935",
         "0.701864406779661",
         "0.713090418353576",
         "84140.0",
         "19.5543345543346",
         "0.096816114359974",
         "2016-2017",
         "DE",
         "19709",
         "Regular School",
         "High",
         "No"
        ],
        [
         "3",
         "100017000029",
         "0.0447385003150599",
         "0.69206204379562",
         "0.64128256513026",
         "56500.0",
         "17.7374847374847",
         "0.296960249415433",
         "2016-2017",
         "DE",
         "19958",
         "Regular School",
         "High",
         "No"
        ],
        [
         "4",
         "100018000040",
         "0.0770135214579659",
         "0.640060240963855",
         "0.834401709401709",
         "54015.0",
         "18.2454212454212",
         "0.262641138929799",
         "2016-2017",
         "DE",
         "19934",
         "Regular School",
         "High",
         "No"
        ]
       ],
       "shape": {
        "columns": 13,
        "rows": 5
       }
      },
      "text/html": [
       "<div>\n",
       "<style scoped>\n",
       "    .dataframe tbody tr th:only-of-type {\n",
       "        vertical-align: middle;\n",
       "    }\n",
       "\n",
       "    .dataframe tbody tr th {\n",
       "        vertical-align: top;\n",
       "    }\n",
       "\n",
       "    .dataframe thead th {\n",
       "        text-align: right;\n",
       "    }\n",
       "</style>\n",
       "<table border=\"1\" class=\"dataframe\">\n",
       "  <thead>\n",
       "    <tr style=\"text-align: right;\">\n",
       "      <th></th>\n",
       "      <th>id</th>\n",
       "      <th>rate_unemployment</th>\n",
       "      <th>percent_college</th>\n",
       "      <th>percent_married</th>\n",
       "      <th>median_income</th>\n",
       "      <th>average_act</th>\n",
       "      <th>percent_lunch</th>\n",
       "      <th>year</th>\n",
       "      <th>state</th>\n",
       "      <th>zip_code</th>\n",
       "      <th>school_type</th>\n",
       "      <th>school_level</th>\n",
       "      <th>charter</th>\n",
       "    </tr>\n",
       "  </thead>\n",
       "  <tbody>\n",
       "    <tr>\n",
       "      <th>0</th>\n",
       "      <td>100001600143</td>\n",
       "      <td>0.117962</td>\n",
       "      <td>0.445283</td>\n",
       "      <td>0.346495</td>\n",
       "      <td>42820.0</td>\n",
       "      <td>20.433455</td>\n",
       "      <td>0.066901</td>\n",
       "      <td>2016-2017</td>\n",
       "      <td>DE</td>\n",
       "      <td>19804</td>\n",
       "      <td>Regular School</td>\n",
       "      <td>High</td>\n",
       "      <td>Yes</td>\n",
       "    </tr>\n",
       "    <tr>\n",
       "      <th>1</th>\n",
       "      <td>100008000024</td>\n",
       "      <td>0.063984</td>\n",
       "      <td>0.662765</td>\n",
       "      <td>0.767619</td>\n",
       "      <td>89320.0</td>\n",
       "      <td>19.498168</td>\n",
       "      <td>0.112412</td>\n",
       "      <td>2016-2017</td>\n",
       "      <td>DE</td>\n",
       "      <td>19709</td>\n",
       "      <td>Regular School</td>\n",
       "      <td>High</td>\n",
       "      <td>No</td>\n",
       "    </tr>\n",
       "    <tr>\n",
       "      <th>2</th>\n",
       "      <td>100008000225</td>\n",
       "      <td>0.056460</td>\n",
       "      <td>0.701864</td>\n",
       "      <td>0.713090</td>\n",
       "      <td>84140.0</td>\n",
       "      <td>19.554335</td>\n",
       "      <td>0.096816</td>\n",
       "      <td>2016-2017</td>\n",
       "      <td>DE</td>\n",
       "      <td>19709</td>\n",
       "      <td>Regular School</td>\n",
       "      <td>High</td>\n",
       "      <td>No</td>\n",
       "    </tr>\n",
       "    <tr>\n",
       "      <th>3</th>\n",
       "      <td>100017000029</td>\n",
       "      <td>0.044739</td>\n",
       "      <td>0.692062</td>\n",
       "      <td>0.641283</td>\n",
       "      <td>56500.0</td>\n",
       "      <td>17.737485</td>\n",
       "      <td>0.296960</td>\n",
       "      <td>2016-2017</td>\n",
       "      <td>DE</td>\n",
       "      <td>19958</td>\n",
       "      <td>Regular School</td>\n",
       "      <td>High</td>\n",
       "      <td>No</td>\n",
       "    </tr>\n",
       "    <tr>\n",
       "      <th>4</th>\n",
       "      <td>100018000040</td>\n",
       "      <td>0.077014</td>\n",
       "      <td>0.640060</td>\n",
       "      <td>0.834402</td>\n",
       "      <td>54015.0</td>\n",
       "      <td>18.245421</td>\n",
       "      <td>0.262641</td>\n",
       "      <td>2016-2017</td>\n",
       "      <td>DE</td>\n",
       "      <td>19934</td>\n",
       "      <td>Regular School</td>\n",
       "      <td>High</td>\n",
       "      <td>No</td>\n",
       "    </tr>\n",
       "  </tbody>\n",
       "</table>\n",
       "</div>"
      ],
      "text/plain": [
       "             id  rate_unemployment  percent_college  percent_married  \\\n",
       "0  100001600143           0.117962         0.445283         0.346495   \n",
       "1  100008000024           0.063984         0.662765         0.767619   \n",
       "2  100008000225           0.056460         0.701864         0.713090   \n",
       "3  100017000029           0.044739         0.692062         0.641283   \n",
       "4  100018000040           0.077014         0.640060         0.834402   \n",
       "\n",
       "   median_income  average_act  percent_lunch       year state zip_code  \\\n",
       "0        42820.0    20.433455       0.066901  2016-2017    DE    19804   \n",
       "1        89320.0    19.498168       0.112412  2016-2017    DE    19709   \n",
       "2        84140.0    19.554335       0.096816  2016-2017    DE    19709   \n",
       "3        56500.0    17.737485       0.296960  2016-2017    DE    19958   \n",
       "4        54015.0    18.245421       0.262641  2016-2017    DE    19934   \n",
       "\n",
       "      school_type school_level charter  \n",
       "0  Regular School         High     Yes  \n",
       "1  Regular School         High      No  \n",
       "2  Regular School         High      No  \n",
       "3  Regular School         High      No  \n",
       "4  Regular School         High      No  "
      ]
     },
     "execution_count": 12,
     "metadata": {},
     "output_type": "execute_result"
    }
   ],
   "source": [
    "df = edgap.merge(school_information, how='left', on='id')\n",
    "df.head()"
   ]
  },
  {
   "cell_type": "markdown",
   "id": "01b9e9a9",
   "metadata": {},
   "source": [
    "### G. Handle Out-of-Range Values & Missing Values\n",
    "We identify and correct invalid values, and inspect missing values."
   ]
  },
  {
   "cell_type": "code",
   "execution_count": 13,
   "id": "d5cbb322",
   "metadata": {},
   "outputs": [
    {
     "data": {
      "application/vnd.microsoft.datawrangler.viewer.v0+json": {
       "columns": [
        {
         "name": "index",
         "rawType": "object",
         "type": "string"
        },
        {
         "name": "Number of Missing Values",
         "rawType": "int64",
         "type": "integer"
        }
       ],
       "ref": "820dbcf0-d0f0-429a-87c1-0ec227bb8df4",
       "rows": [
        [
         "id",
         "0"
        ],
        [
         "rate_unemployment",
         "12"
        ],
        [
         "percent_college",
         "11"
        ],
        [
         "percent_married",
         "20"
        ],
        [
         "median_income",
         "16"
        ],
        [
         "average_act",
         "3"
        ],
        [
         "percent_lunch",
         "20"
        ],
        [
         "year",
         "0"
        ],
        [
         "state",
         "0"
        ],
        [
         "zip_code",
         "0"
        ],
        [
         "school_type",
         "0"
        ],
        [
         "school_level",
         "0"
        ],
        [
         "charter",
         "0"
        ]
       ],
       "shape": {
        "columns": 1,
        "rows": 13
       }
      },
      "text/html": [
       "<div>\n",
       "<style scoped>\n",
       "    .dataframe tbody tr th:only-of-type {\n",
       "        vertical-align: middle;\n",
       "    }\n",
       "\n",
       "    .dataframe tbody tr th {\n",
       "        vertical-align: top;\n",
       "    }\n",
       "\n",
       "    .dataframe thead th {\n",
       "        text-align: right;\n",
       "    }\n",
       "</style>\n",
       "<table border=\"1\" class=\"dataframe\">\n",
       "  <thead>\n",
       "    <tr style=\"text-align: right;\">\n",
       "      <th></th>\n",
       "      <th>Number of Missing Values</th>\n",
       "    </tr>\n",
       "  </thead>\n",
       "  <tbody>\n",
       "    <tr>\n",
       "      <th>id</th>\n",
       "      <td>0</td>\n",
       "    </tr>\n",
       "    <tr>\n",
       "      <th>rate_unemployment</th>\n",
       "      <td>12</td>\n",
       "    </tr>\n",
       "    <tr>\n",
       "      <th>percent_college</th>\n",
       "      <td>11</td>\n",
       "    </tr>\n",
       "    <tr>\n",
       "      <th>percent_married</th>\n",
       "      <td>20</td>\n",
       "    </tr>\n",
       "    <tr>\n",
       "      <th>median_income</th>\n",
       "      <td>16</td>\n",
       "    </tr>\n",
       "    <tr>\n",
       "      <th>average_act</th>\n",
       "      <td>3</td>\n",
       "    </tr>\n",
       "    <tr>\n",
       "      <th>percent_lunch</th>\n",
       "      <td>20</td>\n",
       "    </tr>\n",
       "    <tr>\n",
       "      <th>year</th>\n",
       "      <td>0</td>\n",
       "    </tr>\n",
       "    <tr>\n",
       "      <th>state</th>\n",
       "      <td>0</td>\n",
       "    </tr>\n",
       "    <tr>\n",
       "      <th>zip_code</th>\n",
       "      <td>0</td>\n",
       "    </tr>\n",
       "    <tr>\n",
       "      <th>school_type</th>\n",
       "      <td>0</td>\n",
       "    </tr>\n",
       "    <tr>\n",
       "      <th>school_level</th>\n",
       "      <td>0</td>\n",
       "    </tr>\n",
       "    <tr>\n",
       "      <th>charter</th>\n",
       "      <td>0</td>\n",
       "    </tr>\n",
       "  </tbody>\n",
       "</table>\n",
       "</div>"
      ],
      "text/plain": [
       "                   Number of Missing Values\n",
       "id                                        0\n",
       "rate_unemployment                        12\n",
       "percent_college                          11\n",
       "percent_married                          20\n",
       "median_income                            16\n",
       "average_act                               3\n",
       "percent_lunch                            20\n",
       "year                                      0\n",
       "state                                     0\n",
       "zip_code                                  0\n",
       "school_type                               0\n",
       "school_level                              0\n",
       "charter                                   0"
      ]
     },
     "execution_count": 13,
     "metadata": {},
     "output_type": "execute_result"
    }
   ],
   "source": [
    "df.loc[df['percent_lunch'] < 0, 'percent_lunch'] = np.nan\n",
    "df.loc[df['average_act'] < 1, 'average_act'] = np.nan\n",
    "\n",
    "# Filter to high schools only\n",
    "df = df.loc[df['school_level'] == 'High']\n",
    "\n",
    "# Check for Duplicate Rows\n",
    "df.duplicated().sum()\n",
    "\n",
    "# Check missing values\n",
    "df.isna().sum().to_frame(name=\"Number of Missing Values\")\n"
   ]
  },
  {
   "cell_type": "markdown",
   "id": "7ed512da",
   "metadata": {},
   "source": [
    "Some values in the dataset were invalid, so we replaced them with NaN to indicate missing or unusable data. Since ACT scores are meaningful only for high schools, we filtered the dataset to include high school records exclusively. We also identified missing values in relevant columns, which will later be handled through imputation to ensure accurate analysis."
   ]
  },
  {
   "cell_type": "markdown",
   "id": "ca3c367a",
   "metadata": {},
   "source": [
    "**Drop Missing Values for ACT Scores**: Schools without ACT scores are removed, as we cannot predict performance without the target variable\n"
   ]
  },
  {
   "cell_type": "code",
   "execution_count": 14,
   "id": "acd206a8",
   "metadata": {},
   "outputs": [
    {
     "data": {
      "application/vnd.microsoft.datawrangler.viewer.v0+json": {
       "columns": [
        {
         "name": "index",
         "rawType": "object",
         "type": "string"
        },
        {
         "name": "Number of Missing Values",
         "rawType": "int64",
         "type": "integer"
        }
       ],
       "ref": "f2c31f9e-ee4a-452d-8c0e-7b947dbe0d8d",
       "rows": [
        [
         "id",
         "0"
        ],
        [
         "rate_unemployment",
         "12"
        ],
        [
         "percent_college",
         "11"
        ],
        [
         "percent_married",
         "20"
        ],
        [
         "median_income",
         "16"
        ],
        [
         "average_act",
         "0"
        ],
        [
         "percent_lunch",
         "20"
        ],
        [
         "year",
         "0"
        ],
        [
         "state",
         "0"
        ],
        [
         "zip_code",
         "0"
        ],
        [
         "school_type",
         "0"
        ],
        [
         "school_level",
         "0"
        ],
        [
         "charter",
         "0"
        ]
       ],
       "shape": {
        "columns": 1,
        "rows": 13
       }
      },
      "text/html": [
       "<div>\n",
       "<style scoped>\n",
       "    .dataframe tbody tr th:only-of-type {\n",
       "        vertical-align: middle;\n",
       "    }\n",
       "\n",
       "    .dataframe tbody tr th {\n",
       "        vertical-align: top;\n",
       "    }\n",
       "\n",
       "    .dataframe thead th {\n",
       "        text-align: right;\n",
       "    }\n",
       "</style>\n",
       "<table border=\"1\" class=\"dataframe\">\n",
       "  <thead>\n",
       "    <tr style=\"text-align: right;\">\n",
       "      <th></th>\n",
       "      <th>Number of Missing Values</th>\n",
       "    </tr>\n",
       "  </thead>\n",
       "  <tbody>\n",
       "    <tr>\n",
       "      <th>id</th>\n",
       "      <td>0</td>\n",
       "    </tr>\n",
       "    <tr>\n",
       "      <th>rate_unemployment</th>\n",
       "      <td>12</td>\n",
       "    </tr>\n",
       "    <tr>\n",
       "      <th>percent_college</th>\n",
       "      <td>11</td>\n",
       "    </tr>\n",
       "    <tr>\n",
       "      <th>percent_married</th>\n",
       "      <td>20</td>\n",
       "    </tr>\n",
       "    <tr>\n",
       "      <th>median_income</th>\n",
       "      <td>16</td>\n",
       "    </tr>\n",
       "    <tr>\n",
       "      <th>average_act</th>\n",
       "      <td>0</td>\n",
       "    </tr>\n",
       "    <tr>\n",
       "      <th>percent_lunch</th>\n",
       "      <td>20</td>\n",
       "    </tr>\n",
       "    <tr>\n",
       "      <th>year</th>\n",
       "      <td>0</td>\n",
       "    </tr>\n",
       "    <tr>\n",
       "      <th>state</th>\n",
       "      <td>0</td>\n",
       "    </tr>\n",
       "    <tr>\n",
       "      <th>zip_code</th>\n",
       "      <td>0</td>\n",
       "    </tr>\n",
       "    <tr>\n",
       "      <th>school_type</th>\n",
       "      <td>0</td>\n",
       "    </tr>\n",
       "    <tr>\n",
       "      <th>school_level</th>\n",
       "      <td>0</td>\n",
       "    </tr>\n",
       "    <tr>\n",
       "      <th>charter</th>\n",
       "      <td>0</td>\n",
       "    </tr>\n",
       "  </tbody>\n",
       "</table>\n",
       "</div>"
      ],
      "text/plain": [
       "                   Number of Missing Values\n",
       "id                                        0\n",
       "rate_unemployment                        12\n",
       "percent_college                          11\n",
       "percent_married                          20\n",
       "median_income                            16\n",
       "average_act                               0\n",
       "percent_lunch                            20\n",
       "year                                      0\n",
       "state                                     0\n",
       "zip_code                                  0\n",
       "school_type                               0\n",
       "school_level                              0\n",
       "charter                                   0"
      ]
     },
     "execution_count": 14,
     "metadata": {},
     "output_type": "execute_result"
    }
   ],
   "source": [
    "df = df.dropna(subset=['average_act'])\n",
    "df.isna().sum().to_frame(name=\"Number of Missing Values\")"
   ]
  },
  {
   "cell_type": "markdown",
   "id": "bee652ce",
   "metadata": {},
   "source": [
    "**Impute Missing Values for Socioeconomic Variables**: We will impute missing socioeconomic values rather than dropping rows, since removing them would discard useful information from other columns. Retaining and imputing these rows allows us to preserve as much data as possible for analysis."
   ]
  },
  {
   "cell_type": "code",
   "execution_count": 15,
   "id": "34b3a8ec",
   "metadata": {},
   "outputs": [],
   "source": [
    "from sklearn.experimental import enable_iterative_imputer\n",
    "from sklearn.impute import IterativeImputer\n",
    "\n",
    "numerical_predictors = ['rate_unemployment', 'percent_college', 'percent_married', 'median_income', 'percent_lunch']\n",
    "imputer = IterativeImputer()\n",
    "imputer.fit(df[numerical_predictors])\n",
    "df[numerical_predictors] = imputer.transform(df[numerical_predictors])\n",
    "\n",
    "# now we are able to replace the NaN values\n"
   ]
  },
  {
   "cell_type": "markdown",
   "id": "4cb0715f",
   "metadata": {},
   "source": [
    "After imputation, confirm that no missing values remain"
   ]
  },
  {
   "cell_type": "code",
   "execution_count": 16,
   "id": "ae3db9ca",
   "metadata": {},
   "outputs": [
    {
     "data": {
      "application/vnd.microsoft.datawrangler.viewer.v0+json": {
       "columns": [
        {
         "name": "index",
         "rawType": "object",
         "type": "string"
        },
        {
         "name": "Number of Missing Values",
         "rawType": "int64",
         "type": "integer"
        }
       ],
       "ref": "9d3585fa-b1d7-4b0d-981c-6352811d00f4",
       "rows": [
        [
         "id",
         "0"
        ],
        [
         "rate_unemployment",
         "0"
        ],
        [
         "percent_college",
         "0"
        ],
        [
         "percent_married",
         "0"
        ],
        [
         "median_income",
         "0"
        ],
        [
         "average_act",
         "0"
        ],
        [
         "percent_lunch",
         "0"
        ],
        [
         "year",
         "0"
        ],
        [
         "state",
         "0"
        ],
        [
         "zip_code",
         "0"
        ],
        [
         "school_type",
         "0"
        ],
        [
         "school_level",
         "0"
        ],
        [
         "charter",
         "0"
        ]
       ],
       "shape": {
        "columns": 1,
        "rows": 13
       }
      },
      "text/html": [
       "<div>\n",
       "<style scoped>\n",
       "    .dataframe tbody tr th:only-of-type {\n",
       "        vertical-align: middle;\n",
       "    }\n",
       "\n",
       "    .dataframe tbody tr th {\n",
       "        vertical-align: top;\n",
       "    }\n",
       "\n",
       "    .dataframe thead th {\n",
       "        text-align: right;\n",
       "    }\n",
       "</style>\n",
       "<table border=\"1\" class=\"dataframe\">\n",
       "  <thead>\n",
       "    <tr style=\"text-align: right;\">\n",
       "      <th></th>\n",
       "      <th>Number of Missing Values</th>\n",
       "    </tr>\n",
       "  </thead>\n",
       "  <tbody>\n",
       "    <tr>\n",
       "      <th>id</th>\n",
       "      <td>0</td>\n",
       "    </tr>\n",
       "    <tr>\n",
       "      <th>rate_unemployment</th>\n",
       "      <td>0</td>\n",
       "    </tr>\n",
       "    <tr>\n",
       "      <th>percent_college</th>\n",
       "      <td>0</td>\n",
       "    </tr>\n",
       "    <tr>\n",
       "      <th>percent_married</th>\n",
       "      <td>0</td>\n",
       "    </tr>\n",
       "    <tr>\n",
       "      <th>median_income</th>\n",
       "      <td>0</td>\n",
       "    </tr>\n",
       "    <tr>\n",
       "      <th>average_act</th>\n",
       "      <td>0</td>\n",
       "    </tr>\n",
       "    <tr>\n",
       "      <th>percent_lunch</th>\n",
       "      <td>0</td>\n",
       "    </tr>\n",
       "    <tr>\n",
       "      <th>year</th>\n",
       "      <td>0</td>\n",
       "    </tr>\n",
       "    <tr>\n",
       "      <th>state</th>\n",
       "      <td>0</td>\n",
       "    </tr>\n",
       "    <tr>\n",
       "      <th>zip_code</th>\n",
       "      <td>0</td>\n",
       "    </tr>\n",
       "    <tr>\n",
       "      <th>school_type</th>\n",
       "      <td>0</td>\n",
       "    </tr>\n",
       "    <tr>\n",
       "      <th>school_level</th>\n",
       "      <td>0</td>\n",
       "    </tr>\n",
       "    <tr>\n",
       "      <th>charter</th>\n",
       "      <td>0</td>\n",
       "    </tr>\n",
       "  </tbody>\n",
       "</table>\n",
       "</div>"
      ],
      "text/plain": [
       "                   Number of Missing Values\n",
       "id                                        0\n",
       "rate_unemployment                         0\n",
       "percent_college                           0\n",
       "percent_married                           0\n",
       "median_income                             0\n",
       "average_act                               0\n",
       "percent_lunch                             0\n",
       "year                                      0\n",
       "state                                     0\n",
       "zip_code                                  0\n",
       "school_type                               0\n",
       "school_level                              0\n",
       "charter                                   0"
      ]
     },
     "execution_count": 16,
     "metadata": {},
     "output_type": "execute_result"
    }
   ],
   "source": [
    "df.isna().sum().to_frame(name=\"Number of Missing Values\")"
   ]
  },
  {
   "cell_type": "markdown",
   "id": "bc4ce697",
   "metadata": {},
   "source": [
    "### H. Export the Dataset\n",
    "Save the prepared dataset for future analysis. The dataset is now ready for analysis and can be shared or used in other notebooks."
   ]
  },
  {
   "cell_type": "code",
   "execution_count": 17,
   "id": "fdea320d",
   "metadata": {},
   "outputs": [],
   "source": [
    "df.to_csv('education_clean.csv', encoding='utf-8-sig', index=False)\n"
   ]
  },
  {
   "cell_type": "markdown",
   "id": "887b2083",
   "metadata": {},
   "source": [
    "## Exploratory Data Analysis"
   ]
  },
  {
   "cell_type": "code",
   "execution_count": 18,
   "id": "e5783e82",
   "metadata": {},
   "outputs": [
    {
     "data": {
      "application/vnd.microsoft.datawrangler.viewer.v0+json": {
       "columns": [
        {
         "name": "index",
         "rawType": "int64",
         "type": "integer"
        },
        {
         "name": "id",
         "rawType": "int64",
         "type": "integer"
        },
        {
         "name": "rate_unemployment",
         "rawType": "float64",
         "type": "float"
        },
        {
         "name": "percent_college",
         "rawType": "float64",
         "type": "float"
        },
        {
         "name": "percent_married",
         "rawType": "float64",
         "type": "float"
        },
        {
         "name": "median_income",
         "rawType": "float64",
         "type": "float"
        },
        {
         "name": "average_act",
         "rawType": "float64",
         "type": "float"
        },
        {
         "name": "percent_lunch",
         "rawType": "float64",
         "type": "float"
        },
        {
         "name": "year",
         "rawType": "object",
         "type": "string"
        },
        {
         "name": "state",
         "rawType": "object",
         "type": "string"
        },
        {
         "name": "zip_code",
         "rawType": "int64",
         "type": "integer"
        },
        {
         "name": "school_type",
         "rawType": "object",
         "type": "string"
        },
        {
         "name": "school_level",
         "rawType": "object",
         "type": "string"
        },
        {
         "name": "charter",
         "rawType": "object",
         "type": "string"
        }
       ],
       "ref": "2437a87c-95af-4879-b2db-746e61a6f56d",
       "rows": [
        [
         "0",
         "100001600143",
         "0.117962466487936",
         "0.445283018867925",
         "0.346494762288477",
         "42820.0",
         "20.4334554334554",
         "0.0669014084507042",
         "2016-2017",
         "DE",
         "19804",
         "Regular School",
         "High",
         "Yes"
        ],
        [
         "1",
         "100008000024",
         "0.0639844886088221",
         "0.66276459268762",
         "0.767619047619048",
         "89320.0",
         "19.4981684981685",
         "0.112412177985948",
         "2016-2017",
         "DE",
         "19709",
         "Regular School",
         "High",
         "No"
        ],
        [
         "2",
         "100008000225",
         "0.0564599930723935",
         "0.701864406779661",
         "0.713090418353576",
         "84140.0",
         "19.5543345543346",
         "0.096816114359974",
         "2016-2017",
         "DE",
         "19709",
         "Regular School",
         "High",
         "No"
        ],
        [
         "3",
         "100017000029",
         "0.0447385003150599",
         "0.69206204379562",
         "0.64128256513026",
         "56500.0",
         "17.7374847374847",
         "0.296960249415433",
         "2016-2017",
         "DE",
         "19958",
         "Regular School",
         "High",
         "No"
        ],
        [
         "4",
         "100018000040",
         "0.0770135214579659",
         "0.640060240963855",
         "0.834401709401709",
         "54015.0",
         "18.2454212454212",
         "0.262641138929799",
         "2016-2017",
         "DE",
         "19934",
         "Regular School",
         "High",
         "No"
        ]
       ],
       "shape": {
        "columns": 13,
        "rows": 5
       }
      },
      "text/html": [
       "<div>\n",
       "<style scoped>\n",
       "    .dataframe tbody tr th:only-of-type {\n",
       "        vertical-align: middle;\n",
       "    }\n",
       "\n",
       "    .dataframe tbody tr th {\n",
       "        vertical-align: top;\n",
       "    }\n",
       "\n",
       "    .dataframe thead th {\n",
       "        text-align: right;\n",
       "    }\n",
       "</style>\n",
       "<table border=\"1\" class=\"dataframe\">\n",
       "  <thead>\n",
       "    <tr style=\"text-align: right;\">\n",
       "      <th></th>\n",
       "      <th>id</th>\n",
       "      <th>rate_unemployment</th>\n",
       "      <th>percent_college</th>\n",
       "      <th>percent_married</th>\n",
       "      <th>median_income</th>\n",
       "      <th>average_act</th>\n",
       "      <th>percent_lunch</th>\n",
       "      <th>year</th>\n",
       "      <th>state</th>\n",
       "      <th>zip_code</th>\n",
       "      <th>school_type</th>\n",
       "      <th>school_level</th>\n",
       "      <th>charter</th>\n",
       "    </tr>\n",
       "  </thead>\n",
       "  <tbody>\n",
       "    <tr>\n",
       "      <th>0</th>\n",
       "      <td>100001600143</td>\n",
       "      <td>0.117962</td>\n",
       "      <td>0.445283</td>\n",
       "      <td>0.346495</td>\n",
       "      <td>42820.0</td>\n",
       "      <td>20.433455</td>\n",
       "      <td>0.066901</td>\n",
       "      <td>2016-2017</td>\n",
       "      <td>DE</td>\n",
       "      <td>19804</td>\n",
       "      <td>Regular School</td>\n",
       "      <td>High</td>\n",
       "      <td>Yes</td>\n",
       "    </tr>\n",
       "    <tr>\n",
       "      <th>1</th>\n",
       "      <td>100008000024</td>\n",
       "      <td>0.063984</td>\n",
       "      <td>0.662765</td>\n",
       "      <td>0.767619</td>\n",
       "      <td>89320.0</td>\n",
       "      <td>19.498168</td>\n",
       "      <td>0.112412</td>\n",
       "      <td>2016-2017</td>\n",
       "      <td>DE</td>\n",
       "      <td>19709</td>\n",
       "      <td>Regular School</td>\n",
       "      <td>High</td>\n",
       "      <td>No</td>\n",
       "    </tr>\n",
       "    <tr>\n",
       "      <th>2</th>\n",
       "      <td>100008000225</td>\n",
       "      <td>0.056460</td>\n",
       "      <td>0.701864</td>\n",
       "      <td>0.713090</td>\n",
       "      <td>84140.0</td>\n",
       "      <td>19.554335</td>\n",
       "      <td>0.096816</td>\n",
       "      <td>2016-2017</td>\n",
       "      <td>DE</td>\n",
       "      <td>19709</td>\n",
       "      <td>Regular School</td>\n",
       "      <td>High</td>\n",
       "      <td>No</td>\n",
       "    </tr>\n",
       "    <tr>\n",
       "      <th>3</th>\n",
       "      <td>100017000029</td>\n",
       "      <td>0.044739</td>\n",
       "      <td>0.692062</td>\n",
       "      <td>0.641283</td>\n",
       "      <td>56500.0</td>\n",
       "      <td>17.737485</td>\n",
       "      <td>0.296960</td>\n",
       "      <td>2016-2017</td>\n",
       "      <td>DE</td>\n",
       "      <td>19958</td>\n",
       "      <td>Regular School</td>\n",
       "      <td>High</td>\n",
       "      <td>No</td>\n",
       "    </tr>\n",
       "    <tr>\n",
       "      <th>4</th>\n",
       "      <td>100018000040</td>\n",
       "      <td>0.077014</td>\n",
       "      <td>0.640060</td>\n",
       "      <td>0.834402</td>\n",
       "      <td>54015.0</td>\n",
       "      <td>18.245421</td>\n",
       "      <td>0.262641</td>\n",
       "      <td>2016-2017</td>\n",
       "      <td>DE</td>\n",
       "      <td>19934</td>\n",
       "      <td>Regular School</td>\n",
       "      <td>High</td>\n",
       "      <td>No</td>\n",
       "    </tr>\n",
       "  </tbody>\n",
       "</table>\n",
       "</div>"
      ],
      "text/plain": [
       "             id  rate_unemployment  percent_college  percent_married  \\\n",
       "0  100001600143           0.117962         0.445283         0.346495   \n",
       "1  100008000024           0.063984         0.662765         0.767619   \n",
       "2  100008000225           0.056460         0.701864         0.713090   \n",
       "3  100017000029           0.044739         0.692062         0.641283   \n",
       "4  100018000040           0.077014         0.640060         0.834402   \n",
       "\n",
       "   median_income  average_act  percent_lunch       year state  zip_code  \\\n",
       "0        42820.0    20.433455       0.066901  2016-2017    DE     19804   \n",
       "1        89320.0    19.498168       0.112412  2016-2017    DE     19709   \n",
       "2        84140.0    19.554335       0.096816  2016-2017    DE     19709   \n",
       "3        56500.0    17.737485       0.296960  2016-2017    DE     19958   \n",
       "4        54015.0    18.245421       0.262641  2016-2017    DE     19934   \n",
       "\n",
       "      school_type school_level charter  \n",
       "0  Regular School         High     Yes  \n",
       "1  Regular School         High      No  \n",
       "2  Regular School         High      No  \n",
       "3  Regular School         High      No  \n",
       "4  Regular School         High      No  "
      ]
     },
     "execution_count": 18,
     "metadata": {},
     "output_type": "execute_result"
    }
   ],
   "source": [
    "# Model Processing\n",
    "from sklearn.preprocessing import StandardScaler\n",
    "\n",
    "#Modeling\n",
    "import statsmodels.formula.api as smf\n",
    "import statsmodels.api as sm\n",
    "\n",
    "# Model Metrics and analysis\n",
    "from sklearn.metrics import r2_score, mean_squared_error, mean_absolute_error\n",
    "from statsmodels.stats.anova import anova_lm\n",
    "\n",
    "df = pd.read_csv('../data/education_clean.csv')\n",
    "df.head()"
   ]
  },
  {
   "cell_type": "markdown",
   "id": "1d4578d3",
   "metadata": {},
   "source": [
    "### Heatmap of Correlations\n",
    "Before building a predictive model, we explored how variables relate to each other using a heatmap. This helps identify patterns in the data and shows which factors are most strongly associated with ACT scores."
   ]
  },
  {
   "cell_type": "code",
   "execution_count": 19,
   "id": "f9089821",
   "metadata": {},
   "outputs": [
    {
     "data": {
      "image/png": "[encoded data removed]",
      "text/plain": [
       "<Figure size 1000x500 with 2 Axes>"
      ]
     },
     "metadata": {},
     "output_type": "display_data"
    }
   ],
   "source": [
    "predictor_variables=['rate_unemployment', 'percent_college', 'percent_married', 'median_income', 'percent_lunch', 'state', 'charter']\n",
    "numerical_predictors= df[predictor_variables].select_dtypes(include='number').columns.to_list()\n",
    "corr_matrix = df[numerical_predictors + ['average_act']].corr()\n",
    "plt.figure(figsize=(10, 5))\n",
    "\n",
    "sns.heatmap(\n",
    "    corr_matrix, vmax=1, vmin=-1, square=True, annot=True, cmap=\"viridis\"\n",
    ")\n",
    "\n",
    "plt.tick_params(labelsize=12)\n",
    "plt.show()"
   ]
  },
  {
   "cell_type": "markdown",
   "id": "e2eb3cfb",
   "metadata": {},
   "source": [
    "Interpretation: The heatmap shows how average ACT scores relate to different community factors :\n",
    "- Schools in areas with higher unemployment or more students on free or reduced lunch tend to have lower ACT scores. \n",
    "- In contrast, schools in communities where more adults have college degrees, more adults are married, or household income is higher tend to have higher ACT scores. \n",
    "- The strongest connection is with free or reduced lunch: schools with more of these students generally have much lower ACT scores."
   ]
  },
  {
   "cell_type": "markdown",
   "id": "316a848d",
   "metadata": {},
   "source": [
    "## Modeling : Simple Linear Regression\n",
    "Based on our EDA, we build a simple linear regression model to see if a single socioeconomic factor can predict average ACT scores. We focus on percent_lunch — the percentage of students receiving free or reduced-price lunch because it showed the strongest negative correlation with ACT scores.\n"
   ]
  },
  {
   "cell_type": "code",
   "execution_count": null,
   "id": "048237ac",
   "metadata": {},
   "outputs": [
    {
     "name": "stdout",
     "output_type": "stream",
     "text": [
      "                            OLS Regression Results                            \n",
      "==============================================================================\n",
      "Dep. Variable:            average_act   R-squared:                       0.614\n",
      "Model:                            OLS   Adj. R-squared:                  0.614\n",
      "Method:                 Least Squares   F-statistic:                 1.149e+04\n",
      "Date:                Tue, 21 Oct 2025   Prob (F-statistic):               0.00\n",
      "Time:                        14:47:36   Log-Likelihood:                -13461.\n",
      "No. Observations:                7227   AIC:                         2.693e+04\n",
      "Df Residuals:                    7225   BIC:                         2.694e+04\n",
      "Df Model:                           1                                         \n",
      "Covariance Type:            nonrobust                                         \n",
      "=================================================================================\n",
      "                    coef    std err          t      P>|t|      [0.025      0.975]\n",
      "---------------------------------------------------------------------------------\n",
      "Intercept        23.7429      0.037    641.745      0.000      23.670      23.815\n",
      "percent_lunch    -8.3902      0.078   -107.185      0.000      -8.544      -8.237\n",
      "==============================================================================\n",
      "Omnibus:                      842.406   Durbin-Watson:                   1.472\n",
      "Prob(Omnibus):                  0.000   Jarque-Bera (JB):             2845.416\n",
      "Skew:                           0.582   Prob(JB):                         0.00\n",
      "Kurtosis:                       5.845   Cond. No.                         5.02\n",
      "==============================================================================\n",
      "\n",
      "Notes:\n",
      "[1] Standard Errors assume that the covariance matrix of the errors is correctly specified.\n"
     ]
    }
   ],
   "source": [
    "# Build simple linear regression model\n",
    "model = smf.ols(\n",
    "    formula = 'average_act ~ percent_lunch', data =df).fit()\n",
    "\n",
    "#print the summary\n",
    "print(model.summary())"
   ]
  },
  {
   "cell_type": "markdown",
   "id": "e989210d",
   "metadata": {},
   "source": [
    "- Schools with more low-income students tend to have lower ACT scores.\n",
    "- The relationship is strong: about 61% of the differences in ACT scores between schools can be explained by this factor alone.\n",
    "- Other factors, like income, adult education, and family structure, also influence ACT scores.\n",
    "\n",
    "In short: Higher percent of students on lunch assistance is linked to lower ACT scores, but it’s not the only factor."
   ]
  },
  {
   "cell_type": "markdown",
   "id": "2f4e6c75",
   "metadata": {},
   "source": [
    "## Residuals and Model Accuracy\n",
    "\n",
    "We can check how well our model predicts ACT scores by examining the residuals — the differences between observed and predicted values."
   ]
  },
  {
   "cell_type": "code",
   "execution_count": 22,
   "id": "70234ac5",
   "metadata": {},
   "outputs": [
    {
     "data": {
      "image/png": "[encoded data removed]",
      "text/plain": [
       "<Figure size 640x480 with 1 Axes>"
      ]
     },
     "metadata": {},
     "output_type": "display_data"
    },
    {
     "name": "stdout",
     "output_type": "stream",
     "text": [
      "MAE: 1.17\n",
      "R-squared: 0.614\n"
     ]
    }
   ],
   "source": [
    "# Predicted vs Residual Plot\n",
    "y_hat = model.predict()\n",
    "plt.scatter(y_hat, model.resid, alpha=0.5, color='black')\n",
    "plt.axhline(0, color='red', linestyle='--')\n",
    "plt.xlabel('Predicted ACT Score')\n",
    "plt.ylabel('Residuals')\n",
    "plt.title('Residual Plot')\n",
    "plt.show()\n",
    "\n",
    "# Model accuracy metrics\n",
    "mae = mean_absolute_error(df['average_act'], y_hat)\n",
    "r2 = r2_score(df['average_act'], y_hat)\n",
    "print(f\"MAE: {mae:.2f}\")\n",
    "print(f\"R-squared: {r2:.3f}\")\n"
   ]
  },
  {
   "cell_type": "markdown",
   "id": "a4f55c8f",
   "metadata": {},
   "source": [
    "- Residuals are mostly scattered randomly around zero, suggesting the model predicts ACT scores reasonably well.\n",
    "- Mean Absolute Error (MAE) and R-squared confirm the model’s accuracy: percent_lunch is a strong predictor, but not the only factor affecting scores."
   ]
  },
  {
   "cell_type": "markdown",
   "id": "1b60413b",
   "metadata": {},
   "source": [
    "## Conclusion\n",
    "- The percentage of students receiving free or reduced-price lunch (percent_lunch) is strongly related to average ACT scores.\n",
    "- This single factor alone explains about 61% of the differences in ACT scores between schools.\n",
    "- Schools with higher proportions of low-income students tend to have lower ACT scores.\n",
    "- While percent_lunch is important, other factors—like family income, adult education, and community characteristics—also influence performance.\n",
    "- Supporting low-income students could therefore have a meaningful impact on ACT outcomes."
   ]
  }
 ],
 "metadata": {
  "kernelspec": {
   "display_name": "Python 3",
   "language": "python",
   "name": "python3"
  },
  "language_info": {
   "codemirror_mode": {
    "name": "ipython",
    "version": 3
   },
   "file_extension": ".py",
   "mimetype": "text/x-python",
   "name": "python",
   "nbconvert_exporter": "python",
   "pygments_lexer": "ipython3",
   "version": "3.13.3"
  }
 },
 "nbformat": 4,
 "nbformat_minor": 5
}
